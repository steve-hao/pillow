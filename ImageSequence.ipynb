{
 "cells": [
  {
   "cell_type": "markdown",
   "metadata": {},
   "source": [
    "# `ImageSequence`&nbsp;模块\n",
    "\n",
    "这个&nbsp;`ImageSequence`&nbsp;模块包含一个包装类，该类允许您遍历图像序列的帧。\n",
    "\n",
    "## 从动画中提取帧"
   ]
  },
  {
   "cell_type": "code",
   "execution_count": null,
   "metadata": {},
   "outputs": [],
   "source": [
    "from PIL import Image, ImageSequence\n",
    "\n",
    "im = Image.open(\"animation.fli\")\n",
    "\n",
    "index = 1\n",
    "for frame in ImageSequence.Iterator(im):\n",
    "    frame.save(\"frame%d.png\" % index)\n",
    "    index += 1"
   ]
  },
  {
   "cell_type": "markdown",
   "metadata": {},
   "source": [
    "## &nbsp;`Iterator`&nbsp;类\n",
    "\n",
    "_class_`PIL.ImageSequence.Iterator`(_im_)\n",
    "\n",
    "此类实现一个迭代器对象，该对象可用于循环图像序列\n",
    "\n",
    "你可以使用&nbsp;`[]`&nbsp;通过索引访问元素的运算符。\n",
    "\n",
    "此操作将引发&nbsp;`IndexError`&nbsp;如果你试图进入一个不存的参数\n"
   ]
  },
  {
   "cell_type": "code",
   "execution_count": null,
   "metadata": {},
   "outputs": [],
   "source": []
  }
 ],
 "metadata": {
  "kernelspec": {
   "display_name": "Python 3",
   "language": "python",
   "name": "python3"
  },
  "language_info": {
   "codemirror_mode": {
    "name": "ipython",
    "version": 3
   },
   "file_extension": ".py",
   "mimetype": "text/x-python",
   "name": "python",
   "nbconvert_exporter": "python",
   "pygments_lexer": "ipython3",
   "version": "3.7.4"
  }
 },
 "nbformat": 4,
 "nbformat_minor": 1
}
