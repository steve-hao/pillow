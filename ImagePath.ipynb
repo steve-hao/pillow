{
 "cells": [
  {
   "cell_type": "markdown",
   "metadata": {},
   "source": [
    "# `ImagePath`&nbsp;模块\n",
    "\n",
    "这个&nbsp;`ImagePath`&nbsp;模块用于存储和操作二维矢量数据。路径对象可以传递到&nbsp;`ImageDraw`&nbsp;模块。\n",
    "\n",
    "_class_ `PIL.ImagePath.Path`\n",
    "\n",
    "路径对象。坐标列表可以是包含2个元组`[（x，y），…]`或数值`[x，y，…]`的任何序列对象。\n",
    " \n",
    "还可以从另一个路径对象创象   \n",
    "\n",
    "在1.1.6和更高版本中，您还可以传入实现Python缓冲区API的任何对象。缓冲区应该提供读访问，并且包含以机器字节顺C\n",
    "    \n",
    "path对象实现了Python序列接口的大多数部分，其行为类似于（x，y）对的列表。您可以像往常一样使用len（）、项访问和切片。但是，当前版本不支持切片分配或项和切片删除。\n",
    "\n",
    "*  参数\n",
    "  *  **xy**&nbsp;-- 一个序列序列可以包含两个元组`[（x，y），…]`或一个简单的数字列表`[x，y，…]`。\n",
    "\n",
    "`PILmagePath.Path.compact`(_distance=2_)\n",
    "\n",
    "通过删除彼此靠近的点来压缩路径。此方法在适当的位置修并  *  中剩余的点数。\n",
    "    \n",
    "**distance**&nbsp;测量为&nbsp;Manhattan distance&nbsp;默认为两个像素。\n",
    "\n",
    "`PIL.ImagePath.Path.getbox`()\n",
    "\n",
    "获取路径的边界框。\n",
    "    \n",
    "*  返回\n",
    "  * `(x0, y0, x1, y)`\n",
    "\n",
    "`PIL.ImagePath.Path.map`(_function_)\n",
    "\n",
    "通过函数映射路径。\n",
    "\n",
    "`PIL.Imagepath.Path.tolist`(_flat=0_)\n",
    "\n",
    "将路径转换为python列表`[（x，y），…]`。\n",
    "    \n",
    "*  参数\n",
    "  *  **flat**&nbsp;-- 默认情况下，此函数返回一个2元组列表 `[（x，y）。。。]` . 如果这个论点是&nbsp;`True` 返回简单的数字列表`[x，y，…]`。\n",
    "    \n",
    "*  返回\n",
    "  *  坐标列表。见 flat.\n",
    "\n",
    "`PIL.ImagePath.Path.transform`(_matrix_)\n",
    "\n",
    "使用仿射变换就地转换路径。矩阵是一个6元组（A、B、C、D、E、F），每个点映射如下：\n",
    "```\n",
    "xOut = xIn * a + yIn * b + c\n",
    "yOut = xIn * d + yIn * e + f\n",
    "````\n",
    "\n",
    "\n"
   ]
  },
  {
   "cell_type": "code",
   "execution_count": null,
   "metadata": {},
   "outputs": [],
   "source": []
  }
 ],
 "metadata": {
  "kernelspec": {
   "display_name": "Python 3",
   "language": "python",
   "name": "python3"
  },
  "language_info": {
   "codemirror_mode": {
    "name": "ipython",
    "version": 3
   },
   "file_extension": ".py",
   "mimetype": "text/x-python",
   "name": "python",
   "nbconvert_exporter": "python",
   "pygments_lexer": "ipython3",
   "version": "3.7.4"
  }
 },
 "nbformat": 4,
 "nbformat_minor": 1
}
