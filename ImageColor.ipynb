{
 "cells": [
  {
   "cell_type": "markdown",
   "metadata": {},
   "source": [
    "# `ImageColor`&nbsp;模块\n",
    "\n",
    "这个&nbsp;`ImageColor`&nbsp;模块包含从css3样式颜色说明符到rgb元组的颜色表和转换器。此模块由使用&nbsp;`PIL.Image.new()`&nbsp;以及&nbsp;`ImageDraw`&nbsp;模块等。\n",
    "\n",
    "## 颜色名称\n",
    "\n",
    "\n",
    "*  十六进制颜色说明符，给定为&nbsp;`#rgb`&nbsp;或&nbsp;`#rrggbb`&nbsp;. 例如，&nbsp;`#ff0000`&nbsp;指定纯红色。\n",
    "*  RGB函数，给定为&nbsp;`rgb(red, green, blue)`&nbsp;其中颜色值是0到255之间的整数。或者，颜色值可以是三个百分比（0%到100%）。例如，&nbsp;`rgb(255,0,0)`&nbsp;和&nbsp;`rgb(100%,0%,0%)`&nbsp;两者都指定为纯红色。\n",
    "*  色调饱和度亮度（hsl）函数，如&nbsp;`hsl(hue, saturation%, lightness%)`&nbsp;其中色调是以0到360之间的角度给出的颜色（红色=0，绿色=120，蓝色=240），饱和度是介于0%到100%之间的值（灰色=0%，全色=100%），亮度是介于0%到100%之间的值（黑色=0%，正常=50%，白色=100%）。例如，&nbsp;`hsl(0,100%,50%)`&nbsp;是纯红色的。\n",
    "*  色调饱和值（hsv）函数，表示为&nbsp;`hsv(hue, saturation%, value%)`&nbsp;其中色调和饱和度与HSL相同，值介于0%和100%之间（黑色=0%，正常=100%）。例如，&nbsp;`hsv(0,100%,100%)`&nbsp;是纯红色的。这种格式也被称为色调饱和度亮度（hsb），可以给出&nbsp;`hsb(hue, saturation%, brightness%)`&nbsp;，其中每个值都像在HSV中一样使用。\n",
    "*  通用HTML颜色名称。这个&nbsp;`ImageColor`&nbsp;模块根据X窗口系统和大多数Web浏览器支持的颜色提供大约140个标准颜色名称。颜色名称不区分大小写。例如，&nbsp;`red`&nbsp;和&nbsp;`Red`&nbsp;两者都指定为纯红色。\n",
    "\n",
    "## 功能\n",
    "\n",
    "PIL.ImageColor.getrgb(_color_)\n",
    "\n",
    "将颜色字符串转换为RGB元组。如果无法分析字符串，则此函数将引发&nbsp;`ValueError`异常\n",
    "\n",
    "1.1.4 新版功能\n",
    "\n",
    "`PIL.ImageColor.getcolor`(_color_,&nbsp;_mode_)\n",
    "\n",
    "等同于&nbsp;`getrgb()`&nbsp;，但如果模式不是颜色或调色板图像，则将RGB值转换为灰度值。如果无法分析字符串，则此函数将引发&nbsp;`ValueError`异常。\n"
   ]
  },
  {
   "cell_type": "code",
   "execution_count": null,
   "metadata": {},
   "outputs": [],
   "source": []
  }
 ],
 "metadata": {
  "kernelspec": {
   "display_name": "Python 3",
   "language": "python",
   "name": "python3"
  },
  "language_info": {
   "codemirror_mode": {
    "name": "ipython",
    "version": 3
   },
   "file_extension": ".py",
   "mimetype": "text/x-python",
   "name": "python",
   "nbconvert_exporter": "python",
   "pygments_lexer": "ipython3",
   "version": "3.7.4"
  }
 },
 "nbformat": 4,
 "nbformat_minor": 1
}
